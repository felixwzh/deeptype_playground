{
 "cells": [
  {
   "cell_type": "code",
   "execution_count": 1,
   "metadata": {},
   "outputs": [],
   "source": [
    "import time\n",
    "from functools import partial\n",
    "import itertools\n",
    "from nltk import ngrams\n",
    "from nltk.corpus import stopwords"
   ]
  },
  {
   "cell_type": "code",
   "execution_count": 2,
   "metadata": {},
   "outputs": [
    {
     "name": "stderr",
     "output_type": "stream",
     "text": [
      "/usr/local/lib/python3.5/dist-packages/h5py/__init__.py:36: FutureWarning: Conversion of the second argument of issubdtype from `float` to `np.floating` is deprecated. In future, it will be treated as `np.float64 == np.dtype(float).type`.\n",
      "  from ._conv import register_converters as _register_converters\n"
     ]
    },
    {
     "name": "stdout",
     "output_type": "stream",
     "text": [
      "INFO:tensorflow:Restoring parameters from ../en_model/model.ckpt\n"
     ]
    }
   ],
   "source": [
    "import sys\n",
    "sys.path.append(\"../module/\")\n",
    "import menconn\n",
    "from typelinking import *\n",
    "\n",
    "settings = load_settings('..', 'ja')"
   ]
  },
  {
   "cell_type": "code",
   "execution_count": 5,
   "metadata": {},
   "outputs": [],
   "source": [
    "def parse_tokenize(sentence, mtag):\n",
    "    sentence_parsed = mtag.parse(sentence)\n",
    "    return sentence_parsed.split()\n",
    "\n",
    "def get_japanese_stopwords():\n",
    "    stps = stopwords.words('japanese')\n",
    "    return stps + [''.join(list(stp)) for stp in list(itertools.product(stps, stps))]\n",
    "\n",
    "def get_candidate_mentions(sentence, tokenize, trie, stps=[], sep=' '):\n",
    "    sentence_parsed = tokenize(sentence)\n",
    "    ts = []\n",
    "    for n in range(1, 10):\n",
    "        n_grams = ngrams(sentence_parsed, n)\n",
    "        for grams in n_grams:\n",
    "            ts.append(sep.join(list(grams)))\n",
    "    return [t for t in ts if trie.get(t) is not None and t not in stps]"
   ]
  },
  {
   "cell_type": "code",
   "execution_count": 6,
   "metadata": {},
   "outputs": [
    {
     "name": "stdout",
     "output_type": "stream",
     "text": [
      "Time:0.00500035285949707\n"
     ]
    }
   ],
   "source": [
    "import MeCab\n",
    "trie = settings[3]\n",
    "mtag = MeCab.Tagger('-Owakati')\n",
    "sentence = \"\"\"\n",
    "バラク・オバマは基本的に言ってインテリ層に人気のある黒人だったが、\n",
    "ドナルド・トランプは白人主義者や陰謀論者から人気を集めている。\n",
    "\"\"\"\n",
    "stps = get_japanese_stopwords()\n",
    "tokenize = partial(parse_tokenize, mtag=mtag)\n",
    "\n",
    "start = time.time()\n",
    "ts = get_candidate_mentions(sentence, tokenize, trie, stps, sep='')\n",
    "end = time.time()\n",
    "print('Time:{}'.format(end-start))\n",
    "print(ts)"
   ]
  },
  {
   "cell_type": "code",
   "execution_count": 9,
   "metadata": {},
   "outputs": [
    {
     "name": "stdout",
     "output_type": "stream",
     "text": [
      "Time:0.022411108016967773\n"
     ]
    }
   ],
   "source": [
    "tokenize = partial(menconn.ja_tokenize, ts=ts)\n",
    "\n",
    "start = time.time()\n",
    "results = analyze(sentence, ts, tokenize, *settings, lang='ja')\n",
    "end = time.time()\n",
    "print(\"Time:{}\".format(end-start))"
   ]
  },
  {
   "cell_type": "code",
   "execution_count": 8,
   "metadata": {},
   "outputs": [
    {
     "data": {
      "text/plain": [
       "[{'mention': 'バラク', 'pred': 'バラク (チャガタイ家)'},\n",
       " {'mention': 'オバマ', 'pred': 'バラク・オバマ'},\n",
       " {'mention': '基本', 'pred': '基本'},\n",
       " {'mention': '的', 'pred': '的 (弓道)'},\n",
       " {'mention': 'インテリ', 'pred': 'インテリ'},\n",
       " {'mention': '層', 'pred': '層 (数学)'},\n",
       " {'mention': '人気', 'pred': '人気'},\n",
       " {'mention': '黒人', 'pred': '黒人'},\n",
       " {'mention': 'ドナルド', 'pred': 'ドナルドダック'},\n",
       " {'mention': 'トランプ', 'pred': 'トランプ'},\n",
       " {'mention': '白人', 'pred': '白人'},\n",
       " {'mention': '主義', 'pred': '主義'},\n",
       " {'mention': '者', 'pred': '個人'},\n",
       " {'mention': '陰謀', 'pred': '陰謀'},\n",
       " {'mention': '論', 'pred': '論'},\n",
       " {'mention': '者', 'pred': '個人'},\n",
       " {'mention': '人気', 'pred': '人気'},\n",
       " {'mention': '集め', 'pred': 'コレクション'},\n",
       " {'mention': '主義者', 'pred': '主義者'},\n",
       " {'mention': '陰謀論', 'pred': '陰謀論'},\n",
       " {'mention': 'バラク・オバマ', 'pred': 'バラク・オバマ'},\n",
       " {'mention': 'ドナルド・トランプ', 'pred': 'ドナルド・トランプ'},\n",
       " {'mention': '陰謀論者', 'pred': '陰謀論'}]"
      ]
     },
     "execution_count": 8,
     "metadata": {},
     "output_type": "execute_result"
    }
   ],
   "source": [
    "results"
   ]
  },
  {
   "cell_type": "code",
   "execution_count": null,
   "metadata": {},
   "outputs": [],
   "source": []
  },
  {
   "cell_type": "code",
   "execution_count": null,
   "metadata": {},
   "outputs": [],
   "source": []
  },
  {
   "cell_type": "code",
   "execution_count": null,
   "metadata": {},
   "outputs": [],
   "source": []
  },
  {
   "cell_type": "code",
   "execution_count": null,
   "metadata": {},
   "outputs": [],
   "source": []
  }
 ],
 "metadata": {
  "kernelspec": {
   "display_name": "Python 3",
   "language": "python",
   "name": "python3"
  },
  "language_info": {
   "codemirror_mode": {
    "name": "ipython",
    "version": 3
   },
   "file_extension": ".py",
   "mimetype": "text/x-python",
   "name": "python",
   "nbconvert_exporter": "python",
   "pygments_lexer": "ipython3",
   "version": "3.5.2"
  }
 },
 "nbformat": 4,
 "nbformat_minor": 2
}
