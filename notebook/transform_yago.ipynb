{
 "cells": [
  {
   "cell_type": "code",
   "execution_count": 6,
   "metadata": {},
   "outputs": [],
   "source": [
    "out = []\n",
    "with open('../conll_dataset/aida-yago2-dataset/AIDA-YAGO2-dataset.tsv') as f:\n",
    "    index = 1\n",
    "    me = []\n",
    "    ss = []\n",
    "    first = True\n",
    "    for line in f:\n",
    "        if line.startswith('-DOCSTART-'):\n",
    "            if first:\n",
    "                first = False\n",
    "                continue\n",
    "            out.append([index, ' '.join(ss), list(set(me))])\n",
    "            index += 1\n",
    "            me = []\n",
    "            ss = []\n",
    "        else:\n",
    "            line_spl = line.replace('\\n', '').split('\\t')\n",
    "            ss.append(line_spl[0])\n",
    "            if len(line_spl) > 4:\n",
    "                if line_spl[1] == 'B':\n",
    "                    me.append((line_spl[2], line_spl[4].replace('http://en.wikipedia.org/wiki/','')))"
   ]
  },
  {
   "cell_type": "code",
   "execution_count": 10,
   "metadata": {},
   "outputs": [
    {
     "data": {
      "text/plain": [
       "[1,\n",
       " 'EU rejects German call to boycott British lamb .  Peter Blackburn  BRUSSELS 1996-08-22  The European Commission said on Thursday it disagreed with German advice to consumers to shun British lamb until scientists determine whether mad cow disease can be transmitted to sheep .  Germany \\'s representative to the European Union \\'s veterinary committee Werner Zwingmann said on Wednesday consumers should buy sheepmeat from countries other than Britain until the scientific advice was clearer .  \" We do n\\'t support any such recommendation because we do n\\'t see any grounds for it , \" the Commission \\'s chief spokesman Nikolaus van der Pas told a news briefing .  He said further scientific study was required and if it was found that action was needed it should be taken by the European Union .  He said a proposal last month by EU Farm Commissioner Franz Fischler to ban sheep brains , spleens and spinal cords from the human and animal food chains was a highly specific and precautionary move to protect human health .  Fischler proposed EU-wide measures after reports from Britain and France that under laboratory conditions sheep could contract Bovine Spongiform Encephalopathy ( BSE ) -- mad cow disease .  But Fischler agreed to review his proposal after the EU \\'s standing veterinary committee , mational animal health officials , questioned if such action was justified as there was only a slight risk to human health .  Spanish Farm Minister Loyola de Palacio had earlier accused Fischler at an EU farm ministers \\' meeting of causing unjustified alarm through \" dangerous generalisation . \"  .  Only France and Britain backed Fischler \\'s proposal .  The EU \\'s scientific veterinary and multidisciplinary committees are due to re-examine the issue early next month and make recommendations to the senior veterinary officials .  Sheep have long been known to contract scrapie , a brain-wasting disease similar to BSE which is believed to have been transferred to cattle through feed containing animal waste .  British farmers denied on Thursday there was any danger to human health from their sheep , but expressed concern that German government advice to consumers to avoid British lamb might influence consumers across Europe .  \" What we have to be extremely careful of is how other countries are going to take Germany \\'s lead , \" Welsh National Farmers \\' Union ( NFU ) chairman John Lloyd Jones said on BBC radio .  Bonn has led efforts to protect public health after consumer confidence collapsed in March after a British report suggested humans could contract an illness similar to mad cow disease by eating contaminated beef .  Germany imported 47,600 sheep from Britain last year , nearly half of total imports .  It brought in 4,275 tonnes of British mutton , some 10 percent of overall imports . ',\n",
       " [('BSE', 'Bovine_spongiform_encephalopathy'),\n",
       "  ('European Union', 'European_Union'),\n",
       "  ('Germany', 'Germany'),\n",
       "  ('Britain', 'United_Kingdom'),\n",
       "  ('Commission', 'European_Commission'),\n",
       "  ('Franz Fischler', 'Franz_Fischler'),\n",
       "  ('European Commission', 'European_Commission'),\n",
       "  ('France', 'France'),\n",
       "  ('Spanish', 'Spain'),\n",
       "  ('Europe', 'Europe'),\n",
       "  ('Bonn', 'Bonn'),\n",
       "  ('Loyola de Palacio', 'Loyola_de_Palacio'),\n",
       "  ('BRUSSELS', 'Brussels'),\n",
       "  ('British', 'United_Kingdom'),\n",
       "  ('German', 'Germany')]]"
      ]
     },
     "execution_count": 10,
     "metadata": {},
     "output_type": "execute_result"
    }
   ],
   "source": [
    "out[0]"
   ]
  },
  {
   "cell_type": "code",
   "execution_count": 8,
   "metadata": {},
   "outputs": [],
   "source": [
    "import pickle\n",
    "with open('test_data.pkl', 'wb') as hdl:\n",
    "    pickle.dump(out, hdl)"
   ]
  },
  {
   "cell_type": "code",
   "execution_count": null,
   "metadata": {},
   "outputs": [],
   "source": []
  }
 ],
 "metadata": {
  "kernelspec": {
   "display_name": "Python 3",
   "language": "python",
   "name": "python3"
  },
  "language_info": {
   "codemirror_mode": {
    "name": "ipython",
    "version": 3
   },
   "file_extension": ".py",
   "mimetype": "text/x-python",
   "name": "python",
   "nbconvert_exporter": "python",
   "pygments_lexer": "ipython3",
   "version": "3.5.2"
  }
 },
 "nbformat": 4,
 "nbformat_minor": 2
}
