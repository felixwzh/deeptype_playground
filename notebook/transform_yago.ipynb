{
 "cells": [
  {
   "cell_type": "code",
   "execution_count": 1,
   "metadata": {},
   "outputs": [],
   "source": [
    "out = []\n",
    "with open('../conll_dataset/aida-yago2-dataset/AIDA-YAGO2-dataset.tsv') as f:\n",
    "    index = 1\n",
    "    me = []\n",
    "    ss = []\n",
    "    first = True\n",
    "    for line in f:\n",
    "        if line.startswith('-DOCSTART-'):\n",
    "            if first:\n",
    "                first = False\n",
    "                continue\n",
    "            out.append([index, ' '.join(ss), list(set(me))])\n",
    "            index += 1\n",
    "            me = []\n",
    "            ss = []\n",
    "        else:\n",
    "            line_spl = line.replace('\\n', '').split('\\t')\n",
    "            ss.append(line_spl[0])\n",
    "            if len(line_spl) > 4:\n",
    "                if line_spl[1] == 'B':\n",
    "                    me.append((line_spl[2], line_spl[4].replace('http://en.wikipedia.org/wiki/','')))\n",
    "    out.append([index, ' '.join(ss), list(set(me))])"
   ]
  },
  {
   "cell_type": "code",
   "execution_count": 7,
   "metadata": {},
   "outputs": [
    {
     "data": {
      "text/plain": [
       "[1392,\n",
       " \"SOCCER - SPANISH FIRST DIVISION RESULT / STANDINGS .  MADRID 1996-12-07  Result of Saturday 's only Spanish  first division match :  Real Madrid 2 Barcelona 0  Standings ( tabulate under games played , won , drawn , lost ,  goals for , against , points ) :  Real Madrid 16 11 5 0 32 12 38  Barcelona 16 10 4 2 46 21 34  Deportivo Coruna 15 9 6 0 23 7 33  Real Betis 15 8 5 2 28 13 29  Atletico Madrid 15 8 3 4 26 17 27  Athletic Bilbao 15 7 4 4 28 22 25  Real Sociedad 15 7 3 5 20 18 24  Valladolid 15 7 3 5 19 18 24  Racing Santander 15 5 7 3 15 15 22  Rayo Vallecano 15 5 5 5 21 19 20  Valencia 15 6 2 7 23 22 20  Celta Vigo 15 5 5 5 17 17 20  Tenerife 15 5 4 6 23 17 19  Espanyol 15 4 4 7 17 20 16  Oviedo 15 4 4 7 17 21 16  Sporting Gijon 15 4 4 7 15 22 16  Logrones 15 4 3 8 11 33 15  Zaragoza 15 2 8 5 18 23 14  Sevilla 15 4 2 9 13 20 14  Compostela 15 3 4 8 13 28 13  Hercules 15 2 2 11 11 29 8  Extremadura 15 1 3 11 8 30 6 \",\n",
       " [('Spanish', 'Spain'),\n",
       "  ('Barcelona', 'FC_Barcelona'),\n",
       "  ('Real Sociedad', 'Real_Sociedad'),\n",
       "  ('Tenerife', 'CD_Tenerife'),\n",
       "  ('Atletico Madrid', 'Atlético_Madrid'),\n",
       "  ('Athletic Bilbao', 'Athletic_Bilbao'),\n",
       "  ('Real Betis', 'Real_Betis'),\n",
       "  ('Sevilla', 'Sevilla_FC'),\n",
       "  ('Compostela', 'SD_Compostela'),\n",
       "  ('Real Madrid', 'Real_Madrid_C.F.'),\n",
       "  ('Sporting', 'Sporting_de_Gijón'),\n",
       "  ('Hercules', 'Hércules_CF'),\n",
       "  ('MADRID', 'Madrid'),\n",
       "  ('Valencia', 'Valencia_CF'),\n",
       "  ('Oviedo', 'Real_Oviedo'),\n",
       "  ('SPANISH', 'Spain'),\n",
       "  ('Celta Vigo', 'Celta_de_Vigo'),\n",
       "  ('Valladolid', 'Real_Valladolid'),\n",
       "  ('Rayo Vallecano', 'Rayo_Vallecano'),\n",
       "  ('Zaragoza', 'Real_Zaragoza'),\n",
       "  ('Racing Santander', 'Racing_de_Santander'),\n",
       "  ('Extremadura', 'CF_Extremadura'),\n",
       "  ('Espanyol', 'RCD_Espanyol')]]"
      ]
     },
     "execution_count": 7,
     "metadata": {},
     "output_type": "execute_result"
    }
   ],
   "source": [
    "out[1391]"
   ]
  },
  {
   "cell_type": "code",
   "execution_count": 8,
   "metadata": {},
   "outputs": [],
   "source": [
    "import pickle\n",
    "with open('test_data.pkl', 'wb') as hdl:\n",
    "    pickle.dump(out, hdl)"
   ]
  },
  {
   "cell_type": "code",
   "execution_count": null,
   "metadata": {},
   "outputs": [],
   "source": []
  }
 ],
 "metadata": {
  "kernelspec": {
   "display_name": "Python 3",
   "language": "python",
   "name": "python3"
  },
  "language_info": {
   "codemirror_mode": {
    "name": "ipython",
    "version": 3
   },
   "file_extension": ".py",
   "mimetype": "text/x-python",
   "name": "python",
   "nbconvert_exporter": "python",
   "pygments_lexer": "ipython3",
   "version": "3.5.2"
  }
 },
 "nbformat": 4,
 "nbformat_minor": 2
}
